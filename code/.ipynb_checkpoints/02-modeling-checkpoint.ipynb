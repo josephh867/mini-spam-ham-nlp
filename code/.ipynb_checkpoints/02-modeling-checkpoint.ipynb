{
 "cells": [
  {
   "cell_type": "markdown",
   "id": "8c0f8165-1755-40ef-a22e-f376fa97fcc0",
   "metadata": {},
   "source": [
    "# Modeling and Conclusions\n",
    "\n",
    "This notebook goes into detail on the models I explored using to detect spam in text, as well as the further processing of the text data into a form useable by scikit-learn ML models."
   ]
  },
  {
   "cell_type": "code",
   "execution_count": null,
   "id": "cfeb9a6a-788d-476c-9237-85b09767551d",
   "metadata": {},
   "outputs": [],
   "source": []
  }
 ],
 "metadata": {
  "kernelspec": {
   "display_name": "Python [conda env:root] *",
   "language": "python",
   "name": "conda-root-py"
  },
  "language_info": {
   "codemirror_mode": {
    "name": "ipython",
    "version": 3
   },
   "file_extension": ".py",
   "mimetype": "text/x-python",
   "name": "python",
   "nbconvert_exporter": "python",
   "pygments_lexer": "ipython3",
   "version": "3.9.10"
  }
 },
 "nbformat": 4,
 "nbformat_minor": 5
}
