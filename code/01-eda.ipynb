{
 "cells": [
  {
   "cell_type": "markdown",
   "id": "14b4877b-7a04-4940-91bb-b95998017039",
   "metadata": {},
   "source": [
    "# EDA and Data Wrangling\n",
    "\n",
    "This first notebook inlcudes my source for the data, the cleaning steps I took to make said data useable, and soem basic EDA."
   ]
  },
  {
   "cell_type": "markdown",
   "id": "2a6f95b3-05ba-4fc1-9332-f97620827311",
   "metadata": {},
   "source": [
    "## Data Wrangling"
   ]
  },
  {
   "cell_type": "code",
   "execution_count": null,
   "id": "3050a413-8eae-4252-a4ed-2c9486d83132",
   "metadata": {},
   "outputs": [],
   "source": []
  }
 ],
 "metadata": {
  "kernelspec": {
   "display_name": "Python [conda env:root] *",
   "language": "python",
   "name": "conda-root-py"
  },
  "language_info": {
   "codemirror_mode": {
    "name": "ipython",
    "version": 3
   },
   "file_extension": ".py",
   "mimetype": "text/x-python",
   "name": "python",
   "nbconvert_exporter": "python",
   "pygments_lexer": "ipython3",
   "version": "3.9.10"
  }
 },
 "nbformat": 4,
 "nbformat_minor": 5
}
